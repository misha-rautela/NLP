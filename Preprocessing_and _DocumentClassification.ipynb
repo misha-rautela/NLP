{
 "cells": [
  {
   "cell_type": "code",
   "execution_count": 1,
   "id": "6650afe6",
   "metadata": {},
   "outputs": [
    {
     "name": "stdout",
     "output_type": "stream",
     "text": [
      "Requirement already satisfied: nltk in ./opt/anaconda3/lib/python3.9/site-packages (3.7)\n",
      "Requirement already satisfied: scikit-learn in ./opt/anaconda3/lib/python3.9/site-packages (1.0.2)\n",
      "Requirement already satisfied: regex>=2021.8.3 in ./opt/anaconda3/lib/python3.9/site-packages (from nltk) (2022.3.15)\n",
      "Requirement already satisfied: tqdm in ./opt/anaconda3/lib/python3.9/site-packages (from nltk) (4.64.0)\n",
      "Requirement already satisfied: click in ./opt/anaconda3/lib/python3.9/site-packages (from nltk) (8.0.4)\n",
      "Requirement already satisfied: joblib in ./opt/anaconda3/lib/python3.9/site-packages (from nltk) (1.1.0)\n",
      "Requirement already satisfied: threadpoolctl>=2.0.0 in ./opt/anaconda3/lib/python3.9/site-packages (from scikit-learn) (2.2.0)\n",
      "Requirement already satisfied: numpy>=1.14.6 in ./opt/anaconda3/lib/python3.9/site-packages (from scikit-learn) (1.21.6)\n",
      "Requirement already satisfied: scipy>=1.1.0 in ./opt/anaconda3/lib/python3.9/site-packages (from scikit-learn) (1.7.3)\n",
      "Note: you may need to restart the kernel to use updated packages.\n"
     ]
    }
   ],
   "source": [
    "pip install nltk scikit-learn"
   ]
  },
  {
   "cell_type": "code",
   "execution_count": 2,
   "id": "d1757fb5",
   "metadata": {},
   "outputs": [
    {
     "name": "stderr",
     "output_type": "stream",
     "text": [
      "[nltk_data] Downloading package stopwords to\n",
      "[nltk_data]     /Users/misha_personal/nltk_data...\n",
      "[nltk_data]   Unzipping corpora/stopwords.zip.\n",
      "[nltk_data] Downloading package wordnet to\n",
      "[nltk_data]     /Users/misha_personal/nltk_data...\n",
      "[nltk_data] Downloading package omw-1.4 to\n",
      "[nltk_data]     /Users/misha_personal/nltk_data...\n"
     ]
    },
    {
     "name": "stdout",
     "output_type": "stream",
     "text": [
      "Accuracy: 100.00%\n",
      "The document is categorized as: Technology\n"
     ]
    }
   ],
   "source": [
    "import nltk\n",
    "from nltk.corpus import stopwords\n",
    "from nltk.stem import PorterStemmer\n",
    "from nltk.stem import WordNetLemmatizer\n",
    "from sklearn.feature_extraction.text import CountVectorizer\n",
    "from sklearn.model_selection import train_test_split\n",
    "from sklearn.naive_bayes import MultinomialNB\n",
    "from sklearn.metrics import accuracy_score\n",
    "\n",
    "# Download necessary NLTK resources\n",
    "nltk.download('stopwords')\n",
    "nltk.download('wordnet')\n",
    "nltk.download('omw-1.4')\n",
    "\n",
    "# Text preprocessing function\n",
    "#Lowercasing: Converts the text to lowercase so that \"Football\" and \"football\" are treated as the same word.\n",
    "def preprocess_text(text):\n",
    "    # Convert to lowercase\n",
    "    text = text.lower()\n",
    "\n",
    "    # Remove stopwords\n",
    "    #Stopword Removal: Removes common words (like \"the\", \"and\") that don’t provide useful information for classification.\n",
    "    stop_words = set(stopwords.words('english'))\n",
    "    words = text.split()\n",
    "    words = [word for word in words if word not in stop_words]\n",
    "\n",
    "    # Apply Stemming\n",
    "    #Stemming: Reduces words to their root form using the PorterStemmer. For example, \"running\" becomes \"run\".\n",
    "    stemmer = PorterStemmer()\n",
    "    words = [stemmer.stem(word) for word in words]\n",
    "\n",
    "    # Apply Lemmatization\n",
    "    #Converts words to their dictionary form using the WordNetLemmatizer. For example, \"better\" becomes \"good\". Lemmatization is more accurate than stemming because it returns proper words.\n",
    "    lemmatizer = WordNetLemmatizer()\n",
    "    words = [lemmatizer.lemmatize(word) for word in words]\n",
    "\n",
    "    # Join words back into a single string\n",
    "    return ' '.join(words)\n",
    "\n",
    "# Sample documents (sports vs technology)\n",
    "documents = [\n",
    "    \"The football match was thrilling and intense!\",\n",
    "    \"A new smartphone has been released with great features.\",\n",
    "    \"The team won the championship and celebrated with fans.\",\n",
    "    \"The new laptop features faster processing and more storage.\",\n",
    "    \"Basketball players are working hard for the upcoming season.\",\n",
    "    \"Technology companies are introducing new AI systems.\"\n",
    "]\n",
    "\n",
    "# Labels (1 for Sports, 0 for Technology)\n",
    "labels = [1, 0, 1, 0, 1, 0]\n",
    "\n",
    "# Preprocess the documents\n",
    "processed_documents = [preprocess_text(doc) for doc in documents]\n",
    "\n",
    "# Vectorize the text data (convert text to numerical format)\n",
    "#We use CountVectorizer from scikit-learn to convert text into a numerical form. It creates a \"bag of words\" representation, where each document is represented by the frequency of words in it.\n",
    "vectorizer = CountVectorizer()\n",
    "X = vectorizer.fit_transform(processed_documents)\n",
    "\n",
    "# Split the data into training and testing sets\n",
    "X_train, X_test, y_train, y_test = train_test_split(X, labels, test_size=0.33, random_state=42)\n",
    "\n",
    "# Train a Naive Bayes model\n",
    "#The data is split into training and testing sets using train_test_split. This ensures we can train our model on one portion of the data and evaluate it on another portion.\n",
    "#We use the Naive Bayes classifier (MultinomialNB) to train the model. This is a simple but effective model for text classification.\n",
    "model = MultinomialNB()\n",
    "model.fit(X_train, y_train)\n",
    "\n",
    "# Predict on the test set\n",
    "y_pred = model.predict(X_test)\n",
    "\n",
    "#After training the model, we evaluate it on the test set and print the accuracy. We also use an example sentence to predict its category.\n",
    "\n",
    "# Evaluate the model\n",
    "accuracy = accuracy_score(y_test, y_pred)\n",
    "print(f\"Accuracy: {accuracy * 100:.2f}%\")\n",
    "\n",
    "# Example prediction\n",
    "sample_text = \"The new AI technology is revolutionizing industries.\"\n",
    "processed_sample = preprocess_text(sample_text)\n",
    "sample_vector = vectorizer.transform([processed_sample])\n",
    "predicted_label = model.predict(sample_vector)\n",
    "\n",
    "category = \"Sports\" if predicted_label == 1 else \"Technology\"\n",
    "print(f\"The document is categorized as: {category}\")\n",
    "#The model has 100% accuracy for this very small dataset (in practice, it will be lower for larger datasets)"
   ]
  },
  {
   "cell_type": "code",
   "execution_count": null,
   "id": "f6953448",
   "metadata": {},
   "outputs": [],
   "source": []
  }
 ],
 "metadata": {
  "kernelspec": {
   "display_name": "Python 3 (ipykernel)",
   "language": "python",
   "name": "python3"
  },
  "language_info": {
   "codemirror_mode": {
    "name": "ipython",
    "version": 3
   },
   "file_extension": ".py",
   "mimetype": "text/x-python",
   "name": "python",
   "nbconvert_exporter": "python",
   "pygments_lexer": "ipython3",
   "version": "3.9.12"
  }
 },
 "nbformat": 4,
 "nbformat_minor": 5
}
